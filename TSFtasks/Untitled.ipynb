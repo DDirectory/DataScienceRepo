{
 "cells": [
  {
   "cell_type": "markdown",
   "id": "5892c5d3",
   "metadata": {},
   "source": [
    "# Title: Prediction using Supervised Machine Learning\n",
    "\n",
    "**BY:** DIMPLE SONI\n",
    "\n",
    "TSF GRIPSEPT2021 \n",
    "**Task1**\n",
    "\n",
    "**Simple Linear Regression** Using **Python Scikit Learn**\n"
   ]
  },
  {
   "cell_type": "code",
   "execution_count": 29,
   "id": "a7f68cd5",
   "metadata": {},
   "outputs": [],
   "source": [
    "#importing required Libraries\n",
    "\n",
    "import pandas as pd\n",
    "import numpy as np\n",
    "import matplotlib.pyplot as plt\n"
   ]
  },
  {
   "cell_type": "markdown",
   "id": "f4124afe",
   "metadata": {},
   "source": [
    "# Importing data from remote link---------------------------------------------------\n",
    "\n",
    "**link is =>**  http://bit.ly/w-data \n"
   ]
  },
  {
   "cell_type": "code",
   "execution_count": 10,
   "id": "2c8a402d",
   "metadata": {},
   "outputs": [
    {
     "name": "stdout",
     "output_type": "stream",
     "text": [
      "data imported\n"
     ]
    }
   ],
   "source": [
    "url=\"http://bit.ly/w-data\"\n",
    "ds= pd.read_csv(url)\n",
    "print(\"data imported\")"
   ]
  },
  {
   "cell_type": "markdown",
   "id": "d952bafd",
   "metadata": {},
   "source": [
    "# Show data--------------------------------------------------------------------------------\n"
   ]
  },
  {
   "cell_type": "code",
   "execution_count": 23,
   "id": "cd53cec7",
   "metadata": {},
   "outputs": [
    {
     "data": {
      "text/html": [
       "<div>\n",
       "<style scoped>\n",
       "    .dataframe tbody tr th:only-of-type {\n",
       "        vertical-align: middle;\n",
       "    }\n",
       "\n",
       "    .dataframe tbody tr th {\n",
       "        vertical-align: top;\n",
       "    }\n",
       "\n",
       "    .dataframe thead th {\n",
       "        text-align: right;\n",
       "    }\n",
       "</style>\n",
       "<table border=\"1\" class=\"dataframe\">\n",
       "  <thead>\n",
       "    <tr style=\"text-align: right;\">\n",
       "      <th></th>\n",
       "      <th>Hours</th>\n",
       "      <th>Scores</th>\n",
       "    </tr>\n",
       "  </thead>\n",
       "  <tbody>\n",
       "    <tr>\n",
       "      <th>0</th>\n",
       "      <td>2.5</td>\n",
       "      <td>21</td>\n",
       "    </tr>\n",
       "    <tr>\n",
       "      <th>1</th>\n",
       "      <td>5.1</td>\n",
       "      <td>47</td>\n",
       "    </tr>\n",
       "    <tr>\n",
       "      <th>2</th>\n",
       "      <td>3.2</td>\n",
       "      <td>27</td>\n",
       "    </tr>\n",
       "    <tr>\n",
       "      <th>3</th>\n",
       "      <td>8.5</td>\n",
       "      <td>75</td>\n",
       "    </tr>\n",
       "    <tr>\n",
       "      <th>4</th>\n",
       "      <td>3.5</td>\n",
       "      <td>30</td>\n",
       "    </tr>\n",
       "  </tbody>\n",
       "</table>\n",
       "</div>"
      ],
      "text/plain": [
       "   Hours  Scores\n",
       "0    2.5      21\n",
       "1    5.1      47\n",
       "2    3.2      27\n",
       "3    8.5      75\n",
       "4    3.5      30"
      ]
     },
     "execution_count": 23,
     "metadata": {},
     "output_type": "execute_result"
    }
   ],
   "source": [
    "ds.head()\n"
   ]
  },
  {
   "cell_type": "markdown",
   "id": "b45dccdf",
   "metadata": {},
   "source": [
    "# Plotting the data using  matplotlib.pyplot-------------------------------------"
   ]
  },
  {
   "cell_type": "code",
   "execution_count": 34,
   "id": "8c5cf947",
   "metadata": {},
   "outputs": [
    {
     "data": {
      "image/png": "[encoded data removed]",
      "text/plain": [
       "<Figure size 432x288 with 1 Axes>"
      ]
     },
     "metadata": {
      "needs_background": "light"
     },
     "output_type": "display_data"
    }
   ],
   "source": [
    "ds.plot(x='Hours',y='Scores',style=\"*\")\n",
    "plt.title(\"Student's Marks Prediction\",{\"size\":50})\n",
    "plt.xlabel(\"Hours\",color=\"blue\",size=25,weight=\"black\")\n",
    "plt.ylabel(\"Marks\",{\"color\":\"blue\",\"size\":25,\"weight\":\"black\"})\n",
    "plt.show()"
   ]
  },
  {
   "cell_type": "markdown",
   "id": "41576e9c",
   "metadata": {},
   "source": [
    "# Dividing the data into two parts---------------------------------------------------\n",
    "\n",
    "**part 1 for testing**\n",
    "20% of data from dataset is used that's why test_size=0.2(which means 20%)\n",
    "\n",
    "\n",
    "**part 2 for training**\n",
    "80% of data from dataset is used \n",
    "\n",
    "**for dividing data into two parts \"train_test_split\" used from sklearn.model_selection**\n"
   ]
  },
  {
   "cell_type": "code",
   "execution_count": 12,
   "id": "9681da50",
   "metadata": {},
   "outputs": [],
   "source": [
    "\n",
    "X=ds.iloc[:, :-1].values\n",
    "Y=ds.iloc[:,1].values\n",
    "\n",
    "from sklearn.model_selection import train_test_split\n",
    "X_train, X_test, Y_train, Y_test= train_test_split(X,Y,test_size=0.2,random_state=0)\n",
    "\n"
   ]
  },
  {
   "cell_type": "markdown",
   "id": "58c6cb18",
   "metadata": {},
   "source": [
    "# Training starts----------------------------------------------------------------"
   ]
  },
  {
   "cell_type": "code",
   "execution_count": 13,
   "id": "c5f0eb8c",
   "metadata": {},
   "outputs": [
    {
     "name": "stdout",
     "output_type": "stream",
     "text": [
      "training completed\n"
     ]
    }
   ],
   "source": [
    "from sklearn.linear_model import LinearRegression\n",
    "reg=LinearRegression()\n",
    "reg.fit(X_train,Y_train)\n",
    "print(\"training completed\")\n"
   ]
  },
  {
   "cell_type": "code",
   "execution_count": 41,
   "id": "03a657b9",
   "metadata": {},
   "outputs": [
    {
     "name": "stdout",
     "output_type": "stream",
     "text": [
      "2.018160041434683\n",
      "[9.91065648]\n"
     ]
    },
    {
     "data": {
      "text/html": [
       "<div>\n",
       "<style scoped>\n",
       "    .dataframe tbody tr th:only-of-type {\n",
       "        vertical-align: middle;\n",
       "    }\n",
       "\n",
       "    .dataframe tbody tr th {\n",
       "        vertical-align: top;\n",
       "    }\n",
       "\n",
       "    .dataframe thead th {\n",
       "        text-align: right;\n",
       "    }\n",
       "</style>\n",
       "<table border=\"1\" class=\"dataframe\">\n",
       "  <thead>\n",
       "    <tr style=\"text-align: right;\">\n",
       "      <th></th>\n",
       "      <th>Actual marks</th>\n",
       "      <th>Predicted marks</th>\n",
       "    </tr>\n",
       "  </thead>\n",
       "  <tbody>\n",
       "    <tr>\n",
       "      <th>0</th>\n",
       "      <td>20</td>\n",
       "      <td>16.884145</td>\n",
       "    </tr>\n",
       "    <tr>\n",
       "      <th>1</th>\n",
       "      <td>27</td>\n",
       "      <td>33.732261</td>\n",
       "    </tr>\n",
       "    <tr>\n",
       "      <th>2</th>\n",
       "      <td>69</td>\n",
       "      <td>75.357018</td>\n",
       "    </tr>\n",
       "    <tr>\n",
       "      <th>3</th>\n",
       "      <td>30</td>\n",
       "      <td>26.794801</td>\n",
       "    </tr>\n",
       "    <tr>\n",
       "      <th>4</th>\n",
       "      <td>62</td>\n",
       "      <td>60.491033</td>\n",
       "    </tr>\n",
       "  </tbody>\n",
       "</table>\n",
       "</div>"
      ],
      "text/plain": [
       "           Actual marks         Predicted marks    \n",
       "0                      20                 16.884145\n",
       "1                      27                 33.732261\n",
       "2                      69                 75.357018\n",
       "3                      30                 26.794801\n",
       "4                      62                 60.491033"
      ]
     },
     "execution_count": 41,
     "metadata": {},
     "output_type": "execute_result"
    }
   ],
   "source": [
    "print(reg.intercept_)\n",
    "print(reg.coef_)\n",
    "\n",
    "y_pred=reg.predict(X_test)\n",
    "dif=pd.DataFrame({\"        Actual marks  \":Y_test,\"     Predicted marks    \":y_pred})\n",
    "dif"
   ]
  },
  {
   "cell_type": "markdown",
   "id": "684d49a1",
   "metadata": {},
   "source": [
    "# predicted scores of student if he/she studies for 9.25 hours"
   ]
  },
  {
   "cell_type": "code",
   "execution_count": 42,
   "id": "8dc93583",
   "metadata": {},
   "outputs": [
    {
     "name": "stdout",
     "output_type": "stream",
     "text": [
      "scores = 93.692\n"
     ]
    }
   ],
   "source": [
    "hours=[9.25]\n",
    "res = reg.predict([hours])\n",
    "print(\"scores = {}\".format(round(res[0],3)))"
   ]
  },
  {
   "cell_type": "code",
   "execution_count": null,
   "id": "1a1d47c8",
   "metadata": {},
   "outputs": [],
   "source": []
  }
 ],
 "metadata": {
  "kernelspec": {
   "display_name": "Python 3",
   "language": "python",
   "name": "python3"
  },
  "language_info": {
   "codemirror_mode": {
    "name": "ipython",
    "version": 3
   },
   "file_extension": ".py",
   "mimetype": "text/x-python",
   "name": "python",
   "nbconvert_exporter": "python",
   "pygments_lexer": "ipython3",
   "version": "3.8.8"
  }
 },
 "nbformat": 4,
 "nbformat_minor": 5
}
